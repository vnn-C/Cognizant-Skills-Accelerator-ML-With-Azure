{
 "cells": [
  {
   "cell_type": "code",
   "execution_count": 21,
   "metadata": {},
   "outputs": [],
   "source": [
    "from transformers import AutoTokenizer\n",
    "import pandas as pd\n",
    "from datasets import Dataset\n",
    "import json\n",
    "from sklearn.metrics import accuracy_score\n"
   ]
  },
  {
   "cell_type": "code",
   "execution_count": 29,
   "metadata": {},
   "outputs": [],
   "source": [
    "#model expects input data in json format\n",
    "#saving data as json\n",
    "tokenizer = AutoTokenizer.from_pretrained(\"fabriceyhc/bert-base-uncased-amazon_polarity\")\n",
    "dataset = pd.read_csv(\"../data/sentiment-analysis.csv\", sep=r'\\s*,\\s*', engine='python')\n",
    "\n",
    "dataset.columns = dataset.columns.str.replace('\"', '')\n",
    "dataset.columns = dataset.columns.str.replace(\"'\", '')\n",
    "dataset.columns = dataset.columns.str.strip()\n",
    "\n",
    "text = dataset[\"Text\"].tolist()\n",
    "true_sentiment = dataset[\"Sentiment\"].tolist()\n",
    "input_text = {\"inputs\" : text}\n",
    "\n",
    "with open(\"input_text.json\", \"w\") as f:\n",
    "    json.dump(input_text, f)"
   ]
  },
  {
   "cell_type": "code",
   "execution_count": 36,
   "metadata": {},
   "outputs": [
    {
     "name": "stdout",
     "output_type": "stream",
     "text": [
      "Accuracy score: 0.9795918367346939\n"
     ]
    }
   ],
   "source": [
    "#accuracy score\n",
    "with open(\"model_test_results.json\", \"r\") as f:\n",
    "    results_data = json.load(f)\n",
    "    #print(results_data[:10])\n",
    "    #results = results_data[\"label\"].tolist()\n",
    "    results = [r[\"label\"] for r in results_data]\n",
    "\n",
    "true_sentiment = [str(s).lower() for s in true_sentiment]\n",
    "try:\n",
    "    accuracy = accuracy_score(true_sentiment, results)\n",
    "    print(f\"Accuracy score: {accuracy}\")\n",
    "except Exception as e:\n",
    "    print(f\"Error with accuracy score: {e}\")"
   ]
  }
 ],
 "metadata": {
  "kernelspec": {
   "display_name": "Python 3",
   "language": "python",
   "name": "python3"
  },
  "language_info": {
   "codemirror_mode": {
    "name": "ipython",
    "version": 3
   },
   "file_extension": ".py",
   "mimetype": "text/x-python",
   "name": "python",
   "nbconvert_exporter": "python",
   "pygments_lexer": "ipython3",
   "version": "3.11.2"
  }
 },
 "nbformat": 4,
 "nbformat_minor": 2
}
